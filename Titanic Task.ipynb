{
 "cells": [
  {
   "cell_type": "markdown",
   "id": "c2bd2633",
   "metadata": {},
   "source": [
    "### Imports"
   ]
  },
  {
   "cell_type": "code",
   "execution_count": 1,
   "id": "4e6e3b0a",
   "metadata": {
    "execution": {
     "iopub.execute_input": "2021-09-10T01:40:56.253936Z",
     "iopub.status.busy": "2021-09-10T01:40:56.252765Z",
     "iopub.status.idle": "2021-09-10T01:40:56.271034Z",
     "shell.execute_reply": "2021-09-10T01:40:56.269851Z",
     "shell.execute_reply.started": "2021-09-10T01:40:05.703702Z"
    },
    "papermill": {
     "duration": 0.084253,
     "end_time": "2021-09-10T01:40:56.271310",
     "exception": false,
     "start_time": "2021-09-10T01:40:56.187057",
     "status": "completed"
    },
    "tags": []
   },
   "outputs": [],
   "source": [
    "import numpy as np \n",
    "import pandas as pd\n",
    "import matplotlib.pyplot as plt\n",
    "import seaborn as sns\n",
    "from sklearn.preprocessing import StandardScaler\n",
    "from sklearn.model_selection import GridSearchCV \n",
    "from sklearn.svm import SVC"
   ]
  },
  {
   "cell_type": "markdown",
   "id": "976943be",
   "metadata": {},
   "source": [
    "### Loading and Merging data"
   ]
  },
  {
   "cell_type": "code",
   "execution_count": 2,
   "id": "8d8bbcb6",
   "metadata": {
    "execution": {
     "iopub.execute_input": "2021-09-10T01:40:56.407410Z",
     "iopub.status.busy": "2021-09-10T01:40:56.406688Z",
     "iopub.status.idle": "2021-09-10T01:40:56.457137Z",
     "shell.execute_reply": "2021-09-10T01:40:56.456532Z",
     "shell.execute_reply.started": "2021-09-10T01:40:05.717949Z"
    },
    "papermill": {
     "duration": 0.121215,
     "end_time": "2021-09-10T01:40:56.457322",
     "exception": false,
     "start_time": "2021-09-10T01:40:56.336107",
     "status": "completed"
    },
    "tags": []
   },
   "outputs": [],
   "source": [
    "train = pd.read_csv('train.csv')\n",
    "test = pd.read_csv('test.csv')\n",
    "train['train_test'] = 1\n",
    "test['train_test'] = 0\n",
    "all_data = pd.concat([train,test], ignore_index = True)"
   ]
  },
  {
   "cell_type": "markdown",
   "id": "ca350420",
   "metadata": {},
   "source": [
    "### EDA and Data preprocessing "
   ]
  },
  {
   "cell_type": "code",
   "execution_count": 3,
   "id": "ff5a6b4f",
   "metadata": {
    "execution": {
     "iopub.execute_input": "2021-09-10T01:40:56.731853Z",
     "iopub.status.busy": "2021-09-10T01:40:56.731134Z",
     "iopub.status.idle": "2021-09-10T01:40:56.747732Z",
     "shell.execute_reply": "2021-09-10T01:40:56.748427Z",
     "shell.execute_reply.started": "2021-09-10T01:40:05.745070Z"
    },
    "papermill": {
     "duration": 0.101107,
     "end_time": "2021-09-10T01:40:56.748678",
     "exception": false,
     "start_time": "2021-09-10T01:40:56.647571",
     "status": "completed"
    },
    "tags": []
   },
   "outputs": [
    {
     "name": "stdout",
     "output_type": "stream",
     "text": [
      "<class 'pandas.core.frame.DataFrame'>\n",
      "RangeIndex: 1309 entries, 0 to 1308\n",
      "Data columns (total 13 columns):\n",
      " #   Column       Non-Null Count  Dtype  \n",
      "---  ------       --------------  -----  \n",
      " 0   PassengerId  1309 non-null   int64  \n",
      " 1   Survived     891 non-null    float64\n",
      " 2   Pclass       1309 non-null   int64  \n",
      " 3   Name         1309 non-null   object \n",
      " 4   Sex          1309 non-null   object \n",
      " 5   Age          1046 non-null   float64\n",
      " 6   SibSp        1309 non-null   int64  \n",
      " 7   Parch        1309 non-null   int64  \n",
      " 8   Ticket       1309 non-null   object \n",
      " 9   Fare         1308 non-null   float64\n",
      " 10  Cabin        295 non-null    object \n",
      " 11  Embarked     1307 non-null   object \n",
      " 12  train_test   1309 non-null   int64  \n",
      "dtypes: float64(3), int64(5), object(5)\n",
      "memory usage: 133.1+ KB\n"
     ]
    }
   ],
   "source": [
    "all_data.info() "
   ]
  },
  {
   "cell_type": "code",
   "execution_count": 4,
   "id": "e705aee4",
   "metadata": {
    "execution": {
     "iopub.execute_input": "2021-09-10T01:40:56.884072Z",
     "iopub.status.busy": "2021-09-10T01:40:56.883410Z",
     "iopub.status.idle": "2021-09-10T01:40:56.926554Z",
     "shell.execute_reply": "2021-09-10T01:40:56.927069Z",
     "shell.execute_reply.started": "2021-09-10T01:40:05.761935Z"
    },
    "papermill": {
     "duration": 0.112936,
     "end_time": "2021-09-10T01:40:56.927287",
     "exception": false,
     "start_time": "2021-09-10T01:40:56.814351",
     "status": "completed"
    },
    "tags": []
   },
   "outputs": [
    {
     "data": {
      "text/html": [
       "<div>\n",
       "<style scoped>\n",
       "    .dataframe tbody tr th:only-of-type {\n",
       "        vertical-align: middle;\n",
       "    }\n",
       "\n",
       "    .dataframe tbody tr th {\n",
       "        vertical-align: top;\n",
       "    }\n",
       "\n",
       "    .dataframe thead th {\n",
       "        text-align: right;\n",
       "    }\n",
       "</style>\n",
       "<table border=\"1\" class=\"dataframe\">\n",
       "  <thead>\n",
       "    <tr style=\"text-align: right;\">\n",
       "      <th></th>\n",
       "      <th>PassengerId</th>\n",
       "      <th>Survived</th>\n",
       "      <th>Pclass</th>\n",
       "      <th>Age</th>\n",
       "      <th>SibSp</th>\n",
       "      <th>Parch</th>\n",
       "      <th>Fare</th>\n",
       "      <th>train_test</th>\n",
       "    </tr>\n",
       "  </thead>\n",
       "  <tbody>\n",
       "    <tr>\n",
       "      <th>count</th>\n",
       "      <td>1309.000000</td>\n",
       "      <td>891.000000</td>\n",
       "      <td>1309.000000</td>\n",
       "      <td>1046.000000</td>\n",
       "      <td>1309.000000</td>\n",
       "      <td>1309.000000</td>\n",
       "      <td>1308.000000</td>\n",
       "      <td>1309.000000</td>\n",
       "    </tr>\n",
       "    <tr>\n",
       "      <th>mean</th>\n",
       "      <td>655.000000</td>\n",
       "      <td>0.383838</td>\n",
       "      <td>2.294882</td>\n",
       "      <td>29.881138</td>\n",
       "      <td>0.498854</td>\n",
       "      <td>0.385027</td>\n",
       "      <td>33.295479</td>\n",
       "      <td>0.680672</td>\n",
       "    </tr>\n",
       "    <tr>\n",
       "      <th>std</th>\n",
       "      <td>378.020061</td>\n",
       "      <td>0.486592</td>\n",
       "      <td>0.837836</td>\n",
       "      <td>14.413493</td>\n",
       "      <td>1.041658</td>\n",
       "      <td>0.865560</td>\n",
       "      <td>51.758668</td>\n",
       "      <td>0.466394</td>\n",
       "    </tr>\n",
       "    <tr>\n",
       "      <th>min</th>\n",
       "      <td>1.000000</td>\n",
       "      <td>0.000000</td>\n",
       "      <td>1.000000</td>\n",
       "      <td>0.170000</td>\n",
       "      <td>0.000000</td>\n",
       "      <td>0.000000</td>\n",
       "      <td>0.000000</td>\n",
       "      <td>0.000000</td>\n",
       "    </tr>\n",
       "    <tr>\n",
       "      <th>25%</th>\n",
       "      <td>328.000000</td>\n",
       "      <td>0.000000</td>\n",
       "      <td>2.000000</td>\n",
       "      <td>21.000000</td>\n",
       "      <td>0.000000</td>\n",
       "      <td>0.000000</td>\n",
       "      <td>7.895800</td>\n",
       "      <td>0.000000</td>\n",
       "    </tr>\n",
       "    <tr>\n",
       "      <th>50%</th>\n",
       "      <td>655.000000</td>\n",
       "      <td>0.000000</td>\n",
       "      <td>3.000000</td>\n",
       "      <td>28.000000</td>\n",
       "      <td>0.000000</td>\n",
       "      <td>0.000000</td>\n",
       "      <td>14.454200</td>\n",
       "      <td>1.000000</td>\n",
       "    </tr>\n",
       "    <tr>\n",
       "      <th>75%</th>\n",
       "      <td>982.000000</td>\n",
       "      <td>1.000000</td>\n",
       "      <td>3.000000</td>\n",
       "      <td>39.000000</td>\n",
       "      <td>1.000000</td>\n",
       "      <td>0.000000</td>\n",
       "      <td>31.275000</td>\n",
       "      <td>1.000000</td>\n",
       "    </tr>\n",
       "    <tr>\n",
       "      <th>max</th>\n",
       "      <td>1309.000000</td>\n",
       "      <td>1.000000</td>\n",
       "      <td>3.000000</td>\n",
       "      <td>80.000000</td>\n",
       "      <td>8.000000</td>\n",
       "      <td>9.000000</td>\n",
       "      <td>512.329200</td>\n",
       "      <td>1.000000</td>\n",
       "    </tr>\n",
       "  </tbody>\n",
       "</table>\n",
       "</div>"
      ],
      "text/plain": [
       "       PassengerId    Survived       Pclass          Age        SibSp  \\\n",
       "count  1309.000000  891.000000  1309.000000  1046.000000  1309.000000   \n",
       "mean    655.000000    0.383838     2.294882    29.881138     0.498854   \n",
       "std     378.020061    0.486592     0.837836    14.413493     1.041658   \n",
       "min       1.000000    0.000000     1.000000     0.170000     0.000000   \n",
       "25%     328.000000    0.000000     2.000000    21.000000     0.000000   \n",
       "50%     655.000000    0.000000     3.000000    28.000000     0.000000   \n",
       "75%     982.000000    1.000000     3.000000    39.000000     1.000000   \n",
       "max    1309.000000    1.000000     3.000000    80.000000     8.000000   \n",
       "\n",
       "             Parch         Fare   train_test  \n",
       "count  1309.000000  1308.000000  1309.000000  \n",
       "mean      0.385027    33.295479     0.680672  \n",
       "std       0.865560    51.758668     0.466394  \n",
       "min       0.000000     0.000000     0.000000  \n",
       "25%       0.000000     7.895800     0.000000  \n",
       "50%       0.000000    14.454200     1.000000  \n",
       "75%       0.000000    31.275000     1.000000  \n",
       "max       9.000000   512.329200     1.000000  "
      ]
     },
     "execution_count": 4,
     "metadata": {},
     "output_type": "execute_result"
    }
   ],
   "source": [
    "all_data.describe() "
   ]
  },
  {
   "cell_type": "code",
   "execution_count": 5,
   "id": "399a83b2",
   "metadata": {
    "execution": {
     "iopub.execute_input": "2021-09-10T01:40:59.929609Z",
     "iopub.status.busy": "2021-09-10T01:40:59.927775Z",
     "iopub.status.idle": "2021-09-10T01:41:00.474558Z",
     "shell.execute_reply": "2021-09-10T01:41:00.473857Z",
     "shell.execute_reply.started": "2021-09-10T01:40:08.161671Z"
    },
    "papermill": {
     "duration": 0.663353,
     "end_time": "2021-09-10T01:41:00.474718",
     "exception": false,
     "start_time": "2021-09-10T01:40:59.811365",
     "status": "completed"
    },
    "tags": []
   },
   "outputs": [
    {
     "data": {
      "image/png": "[encoded data removed]",
      "text/plain": [
       "<Figure size 1080x360 with 3 Axes>"
      ]
     },
     "metadata": {
      "needs_background": "light"
     },
     "output_type": "display_data"
    }
   ],
   "source": [
    "fig, axes = plt.subplots(nrows=1, ncols=3, figsize=(15,5))\n",
    "cat_columns = ['Sex','Pclass','Embarked']\n",
    "for i in range(len(cat_columns)):\n",
    "    curr_feature = cat_columns[i]\n",
    "    train.groupby([curr_feature, 'Survived'])['PassengerId'].count().unstack().plot(kind = 'bar', stacked = False, ax = axes[i])\n",
    "    axes[i].legend(['Dead','Survived'])"
   ]
  },
  {
   "cell_type": "code",
   "execution_count": 6,
   "id": "c101186b",
   "metadata": {
    "execution": {
     "iopub.execute_input": "2021-09-10T01:41:08.961745Z",
     "iopub.status.busy": "2021-09-10T01:41:08.960727Z",
     "iopub.status.idle": "2021-09-10T01:41:08.964635Z",
     "shell.execute_reply": "2021-09-10T01:41:08.963886Z",
     "shell.execute_reply.started": "2021-09-10T01:40:14.211473Z"
    },
    "papermill": {
     "duration": 0.093468,
     "end_time": "2021-09-10T01:41:08.964817",
     "exception": false,
     "start_time": "2021-09-10T01:41:08.871349",
     "status": "completed"
    },
    "tags": []
   },
   "outputs": [],
   "source": [
    "all_data['isChild'] = 0\n",
    "all_data.loc[all_data['Age'] < 15, 'isChild'] = 1"
   ]
  },
  {
   "cell_type": "code",
   "execution_count": 7,
   "id": "81f92fee",
   "metadata": {
    "execution": {
     "iopub.execute_input": "2021-09-10T01:41:10.520371Z",
     "iopub.status.busy": "2021-09-10T01:41:10.519229Z",
     "iopub.status.idle": "2021-09-10T01:41:10.530010Z",
     "shell.execute_reply": "2021-09-10T01:41:10.529408Z",
     "shell.execute_reply.started": "2021-09-10T01:40:14.336704Z"
    },
    "papermill": {
     "duration": 0.100069,
     "end_time": "2021-09-10T01:41:10.530199",
     "exception": false,
     "start_time": "2021-09-10T01:41:10.430130",
     "status": "completed"
    },
    "tags": []
   },
   "outputs": [],
   "source": [
    "all_data['Age_isMissing_mean_temp'] = all_data.groupby(['Pclass', 'Sex', 'isChild']).Age.transform('median')\n",
    "all_data.loc[all_data.Age.isnull(), 'Age'] = all_data.loc[all_data.Age.isnull(), 'Age_isMissing_mean_temp']\n",
    "all_data.drop('Age_isMissing_mean_temp', axis = 1, inplace = True)"
   ]
  },
  {
   "cell_type": "code",
   "execution_count": 8,
   "id": "fb9c940f",
   "metadata": {},
   "outputs": [],
   "source": [
    "all_data['Cabin_initial'] = all_data.Cabin.apply(lambda x: str(x)[0])\n",
    "def group_deck(deck):\n",
    "    if(deck in ['A','B','C','T']):\n",
    "        return \"ABC\"\n",
    "    elif(deck in ['D','E']):\n",
    "        return \"DE\"\n",
    "    elif (deck in ['F', 'G']):\n",
    "        return \"FG\"\n",
    "    else:\n",
    "        return \"N\"\n",
    "all_data['Cabin_deck'] = all_data['Cabin_initial'].apply(group_deck)"
   ]
  },
  {
   "cell_type": "code",
   "execution_count": 9,
   "id": "fbbc8187",
   "metadata": {
    "execution": {
     "iopub.execute_input": "2021-09-10T01:41:13.590792Z",
     "iopub.status.busy": "2021-09-10T01:41:13.589802Z",
     "iopub.status.idle": "2021-09-10T01:41:14.271683Z",
     "shell.execute_reply": "2021-09-10T01:41:14.270842Z",
     "shell.execute_reply.started": "2021-09-10T01:40:15.714982Z"
    },
    "papermill": {
     "duration": 0.768289,
     "end_time": "2021-09-10T01:41:14.271858",
     "exception": false,
     "start_time": "2021-09-10T01:41:13.503569",
     "status": "completed"
    },
    "tags": []
   },
   "outputs": [
    {
     "data": {
      "image/png": "[encoded data removed]",
      "text/plain": [
       "<Figure size 1080x360 with 3 Axes>"
      ]
     },
     "metadata": {
      "needs_background": "light"
     },
     "output_type": "display_data"
    }
   ],
   "source": [
    "fig, axes = plt.subplots(nrows=1, ncols=3, figsize=(15,5))\n",
    "for i in range(3):\n",
    "    ax = all_data[all_data.Pclass == (i+1)].Fare.plot.hist(ax = axes[i], title='Plcass = ' + str(i+1))\n",
    "    ax.set_xlabel(\"Fare\")"
   ]
  },
  {
   "cell_type": "code",
   "execution_count": 10,
   "id": "16fdc8bf",
   "metadata": {
    "execution": {
     "iopub.execute_input": "2021-09-10T01:41:15.475608Z",
     "iopub.status.busy": "2021-09-10T01:41:15.474872Z",
     "iopub.status.idle": "2021-09-10T01:41:15.485091Z",
     "shell.execute_reply": "2021-09-10T01:41:15.485673Z",
     "shell.execute_reply.started": "2021-09-10T01:40:16.947951Z"
    },
    "papermill": {
     "duration": 0.099808,
     "end_time": "2021-09-10T01:41:15.485885",
     "exception": false,
     "start_time": "2021-09-10T01:41:15.386077",
     "status": "completed"
    },
    "tags": []
   },
   "outputs": [],
   "source": [
    "ticket_count = all_data.groupby('Ticket').PassengerId.count()\n",
    "all_data['Ticket_count'] = all_data['Ticket'].map(ticket_count)\n",
    "all_data['Fare_individual'] = all_data['Fare']/all_data['Ticket_count']"
   ]
  },
  {
   "cell_type": "code",
   "execution_count": 11,
   "id": "dce2dd46",
   "metadata": {
    "execution": {
     "iopub.execute_input": "2021-09-10T01:41:15.733230Z",
     "iopub.status.busy": "2021-09-10T01:41:15.687752Z",
     "iopub.status.idle": "2021-09-10T01:41:16.300342Z",
     "shell.execute_reply": "2021-09-10T01:41:16.300891Z",
     "shell.execute_reply.started": "2021-09-10T01:40:16.960531Z"
    },
    "papermill": {
     "duration": 0.719657,
     "end_time": "2021-09-10T01:41:16.301092",
     "exception": false,
     "start_time": "2021-09-10T01:41:15.581435",
     "status": "completed"
    },
    "tags": []
   },
   "outputs": [
    {
     "data": {
      "image/png": "[encoded data removed]",
      "text/plain": [
       "<Figure size 1080x360 with 3 Axes>"
      ]
     },
     "metadata": {
      "needs_background": "light"
     },
     "output_type": "display_data"
    }
   ],
   "source": [
    "# Figure 3: plot the distribution of Fare_individual in each Pclass with more specific bins\n",
    "fig, axes = plt.subplots(nrows=1, ncols=3, figsize=(15,5))\n",
    "for i in range(3):\n",
    "    ax = all_data[all_data.Pclass == (i+1)].Fare_individual.plot.hist(ax = axes[i], title='Plcass = ' + str(i+1))\n",
    "    ax.set_xlabel(\"Fare\")"
   ]
  },
  {
   "cell_type": "code",
   "execution_count": 12,
   "id": "5b227c2d",
   "metadata": {
    "execution": {
     "iopub.execute_input": "2021-09-10T01:41:16.488626Z",
     "iopub.status.busy": "2021-09-10T01:41:16.487038Z",
     "iopub.status.idle": "2021-09-10T01:41:16.489536Z",
     "shell.execute_reply": "2021-09-10T01:41:16.490051Z",
     "shell.execute_reply.started": "2021-09-10T01:40:17.570645Z"
    },
    "papermill": {
     "duration": 0.102047,
     "end_time": "2021-09-10T01:41:16.490267",
     "exception": false,
     "start_time": "2021-09-10T01:41:16.388220",
     "status": "completed"
    },
    "tags": []
   },
   "outputs": [],
   "source": [
    "all_data.loc[all_data.Fare_individual.isnull(), 'Fare_individual'] = all_data[all_data['Pclass'] == 3].Fare_individual.median()\n",
    "all_data.loc[all_data.Fare_individual.isnull(), 'Fare'] = all_data[all_data['Pclass'] == 3].Fare_individual.median()"
   ]
  },
  {
   "cell_type": "code",
   "execution_count": 13,
   "id": "f1a0e160",
   "metadata": {},
   "outputs": [],
   "source": [
    "all_data['Pclass_startingPrice'] = 0\n",
    "all_data.loc[all_data.Pclass==1, 'Pclass_startingPrice'] = 25\n",
    "all_data.loc[all_data.Pclass==2, 'Pclass_startingPrice'] = 10\n",
    "all_data.loc[all_data.Pclass==3, 'Pclass_startingPrice'] = 7\n",
    "all_data['Fare_differenceFromStart'] = all_data.Fare_individual - all_data.Pclass_startingPrice"
   ]
  },
  {
   "cell_type": "code",
   "execution_count": 14,
   "id": "fdc902e5",
   "metadata": {
    "execution": {
     "iopub.execute_input": "2021-09-10T01:41:18.985671Z",
     "iopub.status.busy": "2021-09-10T01:41:18.984648Z",
     "iopub.status.idle": "2021-09-10T01:41:18.988300Z",
     "shell.execute_reply": "2021-09-10T01:41:18.987621Z",
     "shell.execute_reply.started": "2021-09-10T01:40:19.102737Z"
    },
    "papermill": {
     "duration": 0.106799,
     "end_time": "2021-09-10T01:41:18.988462",
     "exception": false,
     "start_time": "2021-09-10T01:41:18.881663",
     "status": "completed"
    },
    "tags": []
   },
   "outputs": [],
   "source": [
    "all_data.loc[all_data.Embarked.isnull(), 'Embarked'] = 'C'"
   ]
  },
  {
   "cell_type": "code",
   "execution_count": 15,
   "id": "27612002",
   "metadata": {
    "execution": {
     "iopub.execute_input": "2021-09-10T01:41:19.172573Z",
     "iopub.status.busy": "2021-09-10T01:41:19.171727Z",
     "iopub.status.idle": "2021-09-10T01:41:19.176351Z",
     "shell.execute_reply": "2021-09-10T01:41:19.175813Z",
     "shell.execute_reply.started": "2021-09-10T01:40:19.118324Z"
    },
    "papermill": {
     "duration": 0.100017,
     "end_time": "2021-09-10T01:41:19.176514",
     "exception": false,
     "start_time": "2021-09-10T01:41:19.076497",
     "status": "completed"
    },
    "tags": []
   },
   "outputs": [],
   "source": [
    "all_data['FamilySize'] = all_data.Parch + all_data.SibSp + 1"
   ]
  },
  {
   "cell_type": "code",
   "execution_count": 16,
   "id": "9b112bd4",
   "metadata": {
    "execution": {
     "iopub.execute_input": "2021-09-10T01:41:19.360997Z",
     "iopub.status.busy": "2021-09-10T01:41:19.357342Z",
     "iopub.status.idle": "2021-09-10T01:41:19.366793Z",
     "shell.execute_reply": "2021-09-10T01:41:19.367312Z",
     "shell.execute_reply.started": "2021-09-10T01:40:19.136054Z"
    },
    "papermill": {
     "duration": 0.102272,
     "end_time": "2021-09-10T01:41:19.367533",
     "exception": false,
     "start_time": "2021-09-10T01:41:19.265261",
     "status": "completed"
    },
    "tags": []
   },
   "outputs": [],
   "source": [
    "all_data['GroupSize'] = all_data[['Ticket_count', 'FamilySize']].max(axis = 1)"
   ]
  },
  {
   "cell_type": "code",
   "execution_count": 17,
   "id": "6a0dcdd4",
   "metadata": {},
   "outputs": [],
   "source": [
    "all_data.loc[all_data.Sex == 'male', 'Sex'] = 1\n",
    "all_data.loc[all_data.Sex == 'female', 'Sex'] = 0"
   ]
  },
  {
   "cell_type": "code",
   "execution_count": 18,
   "id": "c1c22259",
   "metadata": {
    "execution": {
     "iopub.execute_input": "2021-09-10T01:41:19.731836Z",
     "iopub.status.busy": "2021-09-10T01:41:19.731052Z",
     "iopub.status.idle": "2021-09-10T01:41:20.954252Z",
     "shell.execute_reply": "2021-09-10T01:41:20.953647Z",
     "shell.execute_reply.started": "2021-09-10T01:40:19.150362Z"
    },
    "papermill": {
     "duration": 1.32172,
     "end_time": "2021-09-10T01:41:20.954425",
     "exception": false,
     "start_time": "2021-09-10T01:41:19.632705",
     "status": "completed"
    },
    "tags": []
   },
   "outputs": [],
   "source": [
    "features_to_use = ['Pclass', 'Sex', 'Age', 'Embarked', 'train_test', 'Cabin_deck', \n",
    "                   'Fare_individual', 'Fare_differenceFromStart', 'GroupSize']\n",
    "all_features_train = all_data[features_to_use].copy()\n",
    "all_features_train.Pclass = all_features_train.Pclass.astype(str)\n",
    "all_features_train = pd.get_dummies(all_features_train, columns = ['Pclass', 'Embarked','Cabin_deck'])\n",
    "scaler = StandardScaler()\n",
    "to_be_scaled = ['Age', 'Fare_individual', 'Fare_differenceFromStart','GroupSize']\n",
    "all_features_train[to_be_scaled] = scaler.fit_transform(all_features_train[to_be_scaled])"
   ]
  },
  {
   "cell_type": "code",
   "execution_count": 19,
   "id": "d96411a9",
   "metadata": {
    "execution": {
     "iopub.execute_input": "2021-09-10T01:41:21.145745Z",
     "iopub.status.busy": "2021-09-10T01:41:21.140875Z",
     "iopub.status.idle": "2021-09-10T01:41:21.149479Z",
     "shell.execute_reply": "2021-09-10T01:41:21.150002Z",
     "shell.execute_reply.started": "2021-09-10T01:40:20.128129Z"
    },
    "papermill": {
     "duration": 0.106886,
     "end_time": "2021-09-10T01:41:21.150294",
     "exception": false,
     "start_time": "2021-09-10T01:41:21.043408",
     "status": "completed"
    },
    "tags": []
   },
   "outputs": [],
   "source": [
    "x_train = all_features_train[all_features_train.train_test == 1].copy()\n",
    "x_train.drop('train_test', axis = 1, inplace = True)\n",
    "x_test = all_features_train[all_features_train.train_test == 0].copy()\n",
    "x_test.drop('train_test', axis = 1, inplace = True)\n",
    "y_train = all_data[all_data.train_test == 1].Survived"
   ]
  },
  {
   "cell_type": "code",
   "execution_count": 20,
   "id": "1631b8c3",
   "metadata": {
    "execution": {
     "iopub.execute_input": "2021-09-10T01:41:23.002058Z",
     "iopub.status.busy": "2021-09-10T01:41:23.001363Z",
     "iopub.status.idle": "2021-09-10T01:41:23.007771Z",
     "shell.execute_reply": "2021-09-10T01:41:23.008338Z",
     "shell.execute_reply.started": "2021-09-10T01:40:20.694591Z"
    },
    "papermill": {
     "duration": 0.105152,
     "end_time": "2021-09-10T01:41:23.008559",
     "exception": false,
     "start_time": "2021-09-10T01:41:22.903407",
     "status": "completed"
    },
    "tags": []
   },
   "outputs": [],
   "source": [
    "train_temp = all_data[all_data.train_test == 1].copy()\n",
    "test_temp = all_data[all_data.train_test == 0].copy()\n",
    "\n",
    "ticket_train_list = train_temp.Ticket.value_counts().index.tolist()\n",
    "ticket_test_list = test_temp.Ticket.value_counts().index.tolist()\n",
    "ticket_only_test_list = list(set(ticket_test_list) - set(ticket_train_list))\n",
    "\n",
    "all_data['Ticket_survivalRate'] = 0\n",
    "all_data['Ticket_survivalRate'] = all_data['Ticket'].apply(lambda x: 1 if x in ticket_only_test_list else 0)\n",
    "all_data.loc[all_data.Ticket_count < 2, 'Ticket_survivalRate'] = 1\n",
    "\n",
    "all_data['Ticket_survivalRate'] = all_data['Ticket'].map(all_data[all_data.Ticket_survivalRate == 0].groupby('Ticket').Survived.mean())\n",
    "all_data['Ticket_survivalRate'] = all_data['Ticket_survivalRate'].fillna(0)"
   ]
  },
  {
   "cell_type": "code",
   "execution_count": 21,
   "id": "9667df8e",
   "metadata": {
    "execution": {
     "iopub.execute_input": "2021-09-10T01:41:23.650119Z",
     "iopub.status.busy": "2021-09-10T01:41:23.649441Z",
     "iopub.status.idle": "2021-09-10T01:41:23.675747Z",
     "shell.execute_reply": "2021-09-10T01:41:23.676278Z",
     "shell.execute_reply.started": "2021-09-10T01:40:20.740250Z"
    },
    "papermill": {
     "duration": 0.118525,
     "end_time": "2021-09-10T01:41:23.676506",
     "exception": false,
     "start_time": "2021-09-10T01:41:23.557981",
     "status": "completed"
    },
    "tags": []
   },
   "outputs": [],
   "source": [
    "all_data['FirstName'] = all_data.Name.apply(lambda x: x.split(',')[0].strip())\n",
    "\n",
    "train_temp = all_data[all_data.train_test == 1].copy()\n",
    "test_temp = all_data[all_data.train_test == 0].copy()\n",
    "\n",
    "FirstName_train_list = train_temp.FirstName.value_counts().index.tolist()\n",
    "FirstName_test_list = test_temp.FirstName.value_counts().index.tolist()\n",
    "FirstName_only_test_list = list(set(FirstName_test_list) - set(FirstName_train_list))\n",
    "\n",
    "all_data['Family_survivalRate'] = 0\n",
    "all_data['Family_survivalRate'] = all_data['FirstName'].apply(lambda x: 1 if x in FirstName_only_test_list else 0)\n",
    "all_data.loc[all_data.FamilySize < 2, 'Family_survivalRate'] = 1\n",
    "\n",
    "all_data['Family_survivalRate'] = all_data['FirstName'].map(all_data[all_data.Family_survivalRate == 0].groupby('FirstName').Survived.mean())\n",
    "all_data['Family_survivalRate'] = all_data['Family_survivalRate'].fillna(0)"
   ]
  },
  {
   "cell_type": "code",
   "execution_count": 22,
   "id": "61f6a11e",
   "metadata": {
    "execution": {
     "iopub.execute_input": "2021-09-10T01:41:23.863671Z",
     "iopub.status.busy": "2021-09-10T01:41:23.862939Z",
     "iopub.status.idle": "2021-09-10T01:41:23.868371Z",
     "shell.execute_reply": "2021-09-10T01:41:23.868891Z",
     "shell.execute_reply.started": "2021-09-10T01:40:20.773266Z"
    },
    "papermill": {
     "duration": 0.099052,
     "end_time": "2021-09-10T01:41:23.869096",
     "exception": false,
     "start_time": "2021-09-10T01:41:23.770044",
     "status": "completed"
    },
    "tags": []
   },
   "outputs": [],
   "source": [
    "all_data['SurvivalRate'] = (all_data['Family_survivalRate'] + all_data['Ticket_survivalRate'])/2"
   ]
  },
  {
   "cell_type": "code",
   "execution_count": 23,
   "id": "19ce2bae",
   "metadata": {
    "execution": {
     "iopub.execute_input": "2021-09-10T01:41:24.050099Z",
     "iopub.status.busy": "2021-09-10T01:41:24.049440Z",
     "iopub.status.idle": "2021-09-10T01:41:24.059131Z",
     "shell.execute_reply": "2021-09-10T01:41:24.058527Z",
     "shell.execute_reply.started": "2021-09-10T01:40:20.782651Z"
    },
    "papermill": {
     "duration": 0.100421,
     "end_time": "2021-09-10T01:41:24.059328",
     "exception": false,
     "start_time": "2021-09-10T01:41:23.958907",
     "status": "completed"
    },
    "tags": []
   },
   "outputs": [],
   "source": [
    "x_train['SurvivalRate'] = all_data[all_data.train_test == 1]['SurvivalRate']\n",
    "x_test['SurvivalRate'] = all_data[all_data.train_test == 0]['SurvivalRate']"
   ]
  },
  {
   "cell_type": "markdown",
   "id": "2d909183",
   "metadata": {},
   "source": [
    "### Modeling"
   ]
  },
  {
   "cell_type": "code",
   "execution_count": 25,
   "id": "01ac3447",
   "metadata": {
    "execution": {
     "iopub.execute_input": "2021-09-10T01:41:25.858664Z",
     "iopub.status.busy": "2021-09-10T01:41:25.857714Z",
     "iopub.status.idle": "2021-09-10T01:41:25.861290Z",
     "shell.execute_reply": "2021-09-10T01:41:25.860623Z",
     "shell.execute_reply.started": "2021-09-10T01:40:21.512776Z"
    },
    "papermill": {
     "duration": 0.097621,
     "end_time": "2021-09-10T01:41:25.861447",
     "exception": false,
     "start_time": "2021-09-10T01:41:25.763826",
     "status": "completed"
    },
    "tags": []
   },
   "outputs": [
    {
     "name": "stdout",
     "output_type": "stream",
     "text": [
      "Fitting 5 folds for each of 55 candidates, totalling 275 fits\n",
      "0.8787709497206704\n",
      "{'C': 10, 'gamma': 0.1, 'kernel': 'rbf'}\n"
     ]
    }
   ],
   "source": [
    "svc = SVC()\n",
    "param_grid = [{'kernel': ['rbf'], 'gamma': [.1,.5,1,2,5,10],\n",
    "                                  'C': [.1, 1, 10, 100, 1000]},\n",
    "                                 {'kernel': ['linear'], 'C': [.1, 1, 10, 100, 1000]},\n",
    "                                 {'kernel': ['poly'], 'degree' : [2,3,4,5], 'C': [.1, 1, 10, 100, 1000]}]\n",
    "clf_svc = GridSearchCV(svc, param_grid = param_grid, cv = 5, verbose = True, n_jobs = -1)\n",
    "best_clf_svc = clf_svc.fit(x_train,y_train)\n",
    "print(best_clf_svc.best_score_)\n",
    "print(best_clf_svc.best_params_)"
   ]
  },
  {
   "cell_type": "code",
   "execution_count": 27,
   "id": "1bd21ccc",
   "metadata": {
    "execution": {
     "iopub.execute_input": "2021-09-10T01:41:26.049999Z",
     "iopub.status.busy": "2021-09-10T01:41:26.047226Z",
     "iopub.status.idle": "2021-09-10T01:41:26.086842Z",
     "shell.execute_reply": "2021-09-10T01:41:26.086168Z",
     "shell.execute_reply.started": "2021-09-10T01:40:21.517105Z"
    },
    "papermill": {
     "duration": 0.136521,
     "end_time": "2021-09-10T01:41:26.087013",
     "exception": false,
     "start_time": "2021-09-10T01:41:25.950492",
     "status": "completed"
    },
    "tags": []
   },
   "outputs": [],
   "source": [
    "svc = SVC(random_state=1, C = 1, degree = 2, kernel = 'poly')\n",
    "svc.fit(x_train, y_train)\n",
    "y_pred_test_svc = svc.predict(x_test)\n",
    "submission = {'PassengerId': all_data[all_data.train_test == 0].PassengerId, 'Survived': y_pred_test_svc.astype(int)}\n",
    "submission = pd.DataFrame(data = submission)\n",
    "submission.to_csv('Submission.csv', index=False)"
   ]
  }
 ],
 "metadata": {
  "kernelspec": {
   "display_name": "Python 3 (ipykernel)",
   "language": "python",
   "name": "python3"
  },
  "language_info": {
   "codemirror_mode": {
    "name": "ipython",
    "version": 3
   },
   "file_extension": ".py",
   "mimetype": "text/x-python",
   "name": "python",
   "nbconvert_exporter": "python",
   "pygments_lexer": "ipython3",
   "version": "3.9.6"
  },
  "papermill": {
   "default_parameters": {},
   "duration": 41.090052,
   "end_time": "2021-09-10T01:41:27.964490",
   "environment_variables": {},
   "exception": null,
   "input_path": "__notebook__.ipynb",
   "output_path": "__notebook__.ipynb",
   "parameters": {},
   "start_time": "2021-09-10T01:40:46.874438",
   "version": "2.3.3"
  }
 },
 "nbformat": 4,
 "nbformat_minor": 5
}
